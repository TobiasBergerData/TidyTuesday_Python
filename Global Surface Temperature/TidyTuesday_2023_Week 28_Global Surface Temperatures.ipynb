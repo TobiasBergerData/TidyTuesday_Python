{
 "cells": [
  {
   "cell_type": "markdown",
   "id": "4586ae44",
   "metadata": {},
   "source": [
    "# TidyTuesday: Global Surface Temperature Data\n",
    "\n",
    "Let's do some data viz looking at global surface temperature data.\n",
    "\n",
    "Starting with loading libraries:"
   ]
  },
  {
   "cell_type": "code",
   "execution_count": null,
   "id": "617ffbb1",
   "metadata": {},
   "outputs": [],
   "source": [
    "# Daten\n",
    "\n",
    "import numpy as np\n",
    "import pandas as pd \n",
    "\n",
    "#Grafik\n",
    "\n",
    "import plotly.express as px \n",
    "import matplotlib.pyplot as plt\n",
    "\n",
    "#Einbettung der Grafiken\n",
    "from plotly.offline import init_notebook_mode, iplot\n",
    "init_notebook_mode(connected=True)"
   ]
  },
  {
   "cell_type": "markdown",
   "id": "62e34269",
   "metadata": {},
   "source": [
    "Data is available online in the csv-Format:"
   ]
  },
  {
   "cell_type": "code",
   "execution_count": null,
   "id": "fabe57ad",
   "metadata": {},
   "outputs": [],
   "source": [
    "#Loading the data\n",
    "\n",
    "df_global_temperatures = pd.read_csv(r'https://raw.githubusercontent.com/rfordatascience/tidytuesday/master/data/2023/2023-07-11/global_temps.csv',\n",
    "                        sep=',',\n",
    "                        index_col=False,\n",
    "                        skipinitialspace=True)\n",
    "\n",
    "df_global_temperatures"
   ]
  },
  {
   "cell_type": "markdown",
   "id": "d0a9f243",
   "metadata": {},
   "source": [
    "Let's produce a little plot out of this:"
   ]
  },
  {
   "cell_type": "code",
   "execution_count": null,
   "id": "5176495d",
   "metadata": {
    "run_control": {
     "marked": false
    }
   },
   "outputs": [],
   "source": [
    "#Producing a graph\n",
    "\n",
    "fig = px.bar(df_global_temperatures, \n",
    "                     title = '<b>Global Surface Temperature Since 1880</b>',\n",
    "                     x= 'Year',\n",
    "                     y = 'J-D',\n",
    "                     color = 'J-D',\n",
    "                     color_continuous_scale='Picnic',\n",
    "                     labels={'Year': 'Year', \n",
    "                             'J-D':\"Mean Surface Temperature\"},\n",
    "                     hover_name = 'J-D',\n",
    "                     template = \"plotly_dark\",\n",
    "                     width = 1000,\n",
    "                     height = 500\n",
    "\n",
    "                     )\n",
    "\n",
    "fig.update_layout(coloraxis_colorbar=dict(\n",
    "   thicknessmode=\"pixels\", thickness=40,\n",
    "   lenmode=\"pixels\", len=200,\n",
    "   yanchor=\"middle\", \n",
    "   ticks = 'outside',\n",
    "   ticksuffix=\" °C\",\n",
    "   dtick=1,\n",
    "   tickvals=[0, 1],\n",
    "))\n",
    "\n",
    "fig.add_annotation(text='Data Source: <a href=”https://github.com/rfordatascience/tidytuesday/blob/master/data/2023/2023-07-11/readme.md”>NASA GISS Surface Temperature</a> <br>Viz: <a href=”https://twitter.com/_prospecttheory”>@_prospecttheory</a> <br> <br> <br> <br> <br>', \n",
    "                    align='left',\n",
    "                    showarrow=False,\n",
    "                    xref='paper',\n",
    "                    yref='paper',\n",
    "                    x=-0.1,\n",
    "                    y= -0.4,\n",
    "                    bordercolor='black',\n",
    "                    borderwidth=1)\n",
    "\n",
    "fig.show()"
   ]
  }
 ],
 "metadata": {
  "kernelspec": {
   "display_name": "Python 3 (ipykernel)",
   "language": "python",
   "name": "python3"
  },
  "language_info": {
   "codemirror_mode": {
    "name": "ipython",
    "version": 3
   },
   "file_extension": ".py",
   "mimetype": "text/x-python",
   "name": "python",
   "nbconvert_exporter": "python",
   "pygments_lexer": "ipython3",
   "version": "3.11.3"
  },
  "toc": {
   "base_numbering": 1,
   "nav_menu": {},
   "number_sections": true,
   "sideBar": true,
   "skip_h1_title": false,
   "title_cell": "Table of Contents",
   "title_sidebar": "Contents",
   "toc_cell": false,
   "toc_position": {},
   "toc_section_display": true,
   "toc_window_display": false
  },
  "varInspector": {
   "cols": {
    "lenName": 16,
    "lenType": 16,
    "lenVar": 40
   },
   "kernels_config": {
    "python": {
     "delete_cmd_postfix": "",
     "delete_cmd_prefix": "del ",
     "library": "var_list.py",
     "varRefreshCmd": "print(var_dic_list())"
    },
    "r": {
     "delete_cmd_postfix": ") ",
     "delete_cmd_prefix": "rm(",
     "library": "var_list.r",
     "varRefreshCmd": "cat(var_dic_list()) "
    }
   },
   "types_to_exclude": [
    "module",
    "function",
    "builtin_function_or_method",
    "instance",
    "_Feature"
   ],
   "window_display": false
  }
 },
 "nbformat": 4,
 "nbformat_minor": 5
}

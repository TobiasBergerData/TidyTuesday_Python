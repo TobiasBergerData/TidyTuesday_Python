{
 "cells": [
  {
   "cell_type": "markdown",
   "id": "31e2bab8",
   "metadata": {},
   "source": [
    "# TidyTuesday: Himalaya Data\n",
    "\n",
    "Let's do some data viz looking at mountain climbing data.\n",
    "\n",
    "Starting with loading libraries:"
   ]
  },
  {
   "cell_type": "code",
   "execution_count": 1,
   "id": "3bb54ef8",
   "metadata": {},
   "outputs": [
    {
     "data": {
      "text/html": [
       "        <script type=\"text/javascript\">\n",
       "        window.PlotlyConfig = {MathJaxConfig: 'local'};\n",
       "        if (window.MathJax && window.MathJax.Hub && window.MathJax.Hub.Config) {window.MathJax.Hub.Config({SVG: {font: \"STIX-Web\"}});}\n",
       "        if (typeof require !== 'undefined') {\n",
       "        require.undef(\"plotly\");\n",
       "        requirejs.config({\n",
       "            paths: {\n",
       "                'plotly': ['https://cdn.plot.ly/plotly-2.24.1.min']\n",
       "            }\n",
       "        });\n",
       "        require(['plotly'], function(Plotly) {\n",
       "            window._Plotly = Plotly;\n",
       "        });\n",
       "        }\n",
       "        </script>\n",
       "        "
      ]
     },
     "metadata": {},
     "output_type": "display_data"
    }
   ],
   "source": [
    "# Daten\n",
    "\n",
    "import numpy as np\n",
    "import pandas as pd \n",
    "\n",
    "#Grafik\n",
    "\n",
    "import plotly.express as px \n",
    "import seaborn as sns\n",
    "import matplotlib.pyplot as plt\n",
    "\n",
    "#Einbettung der Grafiken\n",
    "from plotly.offline import init_notebook_mode, iplot\n",
    "init_notebook_mode(connected=True)"
   ]
  },
  {
   "cell_type": "markdown",
   "id": "d06bffc7",
   "metadata": {},
   "source": [
    "Data is available online in the csv-Format:"
   ]
  },
  {
   "cell_type": "code",
   "execution_count": 2,
   "id": "fe1b854c",
   "metadata": {},
   "outputs": [],
   "source": [
    "#Loading the data\n",
    "\n",
    "df_peaks = pd.read_csv(r'https://raw.githubusercontent.com/rfordatascience/tidytuesday/master/data/2020/2020-09-22/peaks.csv',\n",
    "                        sep=',',\n",
    "                        index_col=0,\n",
    "                        skipinitialspace=True)\n",
    "\n",
    "df_members = pd.read_csv(r'https://raw.githubusercontent.com/rfordatascience/tidytuesday/master/data/2020/2020-09-22/members.csv',\n",
    "                        sep=',',\n",
    "                        index_col=0,\n",
    "                        skipinitialspace=True)\n",
    "\n",
    "df_expeditions = pd.read_csv(r'https://raw.githubusercontent.com/rfordatascience/tidytuesday/master/data/2020/2020-09-22/expeditions.csv',\n",
    "                        sep=',',\n",
    "                        index_col=0,\n",
    "                        skipinitialspace=True)"
   ]
  },
  {
   "cell_type": "markdown",
   "id": "3ec54846",
   "metadata": {},
   "source": [
    "And now let's prep the data for our viz."
   ]
  },
  {
   "cell_type": "code",
   "execution_count": 3,
   "id": "d3fe7a21",
   "metadata": {},
   "outputs": [
    {
     "data": {
      "text/html": [
       "<div>\n",
       "<style scoped>\n",
       "    .dataframe tbody tr th:only-of-type {\n",
       "        vertical-align: middle;\n",
       "    }\n",
       "\n",
       "    .dataframe tbody tr th {\n",
       "        vertical-align: top;\n",
       "    }\n",
       "\n",
       "    .dataframe thead th {\n",
       "        text-align: right;\n",
       "    }\n",
       "</style>\n",
       "<table border=\"1\" class=\"dataframe\">\n",
       "  <thead>\n",
       "    <tr style=\"text-align: right;\">\n",
       "      <th></th>\n",
       "      <th>peak_name</th>\n",
       "      <th>peak_alternative_name</th>\n",
       "      <th>height_metres</th>\n",
       "      <th>climbing_status</th>\n",
       "      <th>first_ascent_year</th>\n",
       "      <th>first_ascent_country</th>\n",
       "      <th>first_ascent_expedition_id</th>\n",
       "      <th>peak_name_with_height</th>\n",
       "    </tr>\n",
       "    <tr>\n",
       "      <th>peak_id</th>\n",
       "      <th></th>\n",
       "      <th></th>\n",
       "      <th></th>\n",
       "      <th></th>\n",
       "      <th></th>\n",
       "      <th></th>\n",
       "      <th></th>\n",
       "      <th></th>\n",
       "    </tr>\n",
       "  </thead>\n",
       "  <tbody>\n",
       "    <tr>\n",
       "      <th>AMAD</th>\n",
       "      <td>Ama Dablam</td>\n",
       "      <td>Amai Dablang</td>\n",
       "      <td>6814</td>\n",
       "      <td>Climbed</td>\n",
       "      <td>1961.0</td>\n",
       "      <td>New Zealand, USA, UK</td>\n",
       "      <td>AMAD61101</td>\n",
       "      <td>Ama Dablam (6814m)</td>\n",
       "    </tr>\n",
       "    <tr>\n",
       "      <th>AMPG</th>\n",
       "      <td>Amphu Gyabjen</td>\n",
       "      <td>NaN</td>\n",
       "      <td>5630</td>\n",
       "      <td>Climbed</td>\n",
       "      <td>1953.0</td>\n",
       "      <td>UK</td>\n",
       "      <td>AMPG53101</td>\n",
       "      <td>Amphu Gyabjen (5630m)</td>\n",
       "    </tr>\n",
       "    <tr>\n",
       "      <th>ANN1</th>\n",
       "      <td>Annapurna I</td>\n",
       "      <td>NaN</td>\n",
       "      <td>8091</td>\n",
       "      <td>Climbed</td>\n",
       "      <td>1950.0</td>\n",
       "      <td>France</td>\n",
       "      <td>ANN150101</td>\n",
       "      <td>Annapurna I (8091m)</td>\n",
       "    </tr>\n",
       "    <tr>\n",
       "      <th>ANN2</th>\n",
       "      <td>Annapurna II</td>\n",
       "      <td>NaN</td>\n",
       "      <td>7937</td>\n",
       "      <td>Climbed</td>\n",
       "      <td>1960.0</td>\n",
       "      <td>UK, Nepal</td>\n",
       "      <td>ANN260101</td>\n",
       "      <td>Annapurna II (7937m)</td>\n",
       "    </tr>\n",
       "    <tr>\n",
       "      <th>ANN3</th>\n",
       "      <td>Annapurna III</td>\n",
       "      <td>NaN</td>\n",
       "      <td>7555</td>\n",
       "      <td>Climbed</td>\n",
       "      <td>1961.0</td>\n",
       "      <td>India</td>\n",
       "      <td>ANN361101</td>\n",
       "      <td>Annapurna III (7555m)</td>\n",
       "    </tr>\n",
       "    <tr>\n",
       "      <th>...</th>\n",
       "      <td>...</td>\n",
       "      <td>...</td>\n",
       "      <td>...</td>\n",
       "      <td>...</td>\n",
       "      <td>...</td>\n",
       "      <td>...</td>\n",
       "      <td>...</td>\n",
       "      <td>...</td>\n",
       "    </tr>\n",
       "    <tr>\n",
       "      <th>SANK</th>\n",
       "      <td>Sano Kailash</td>\n",
       "      <td>NaN</td>\n",
       "      <td>6452</td>\n",
       "      <td>Climbed</td>\n",
       "      <td>2019.0</td>\n",
       "      <td>Austria, Nepal</td>\n",
       "      <td>SANK19101</td>\n",
       "      <td>Sano Kailash (6452m)</td>\n",
       "    </tr>\n",
       "    <tr>\n",
       "      <th>TARS</th>\n",
       "      <td>Tarke Kang Shar</td>\n",
       "      <td>Tare Kang</td>\n",
       "      <td>7069</td>\n",
       "      <td>Climbed</td>\n",
       "      <td>1981.0</td>\n",
       "      <td>Italy, Nepal</td>\n",
       "      <td>TARS81301</td>\n",
       "      <td>Tarke Kang Shar (7069m)</td>\n",
       "    </tr>\n",
       "    <tr>\n",
       "      <th>KORL</th>\n",
       "      <td>Korlang Pari Tippa</td>\n",
       "      <td>Korlang Pari Tippa North</td>\n",
       "      <td>5738</td>\n",
       "      <td>Unclimbed</td>\n",
       "      <td>NaN</td>\n",
       "      <td>NaN</td>\n",
       "      <td>NaN</td>\n",
       "      <td>Korlang Pari Tippa (5738m)</td>\n",
       "    </tr>\n",
       "    <tr>\n",
       "      <th>JANE</th>\n",
       "      <td>Jannu East</td>\n",
       "      <td>Khumbhakarna East</td>\n",
       "      <td>7460</td>\n",
       "      <td>Unclimbed</td>\n",
       "      <td>NaN</td>\n",
       "      <td>NaN</td>\n",
       "      <td>NaN</td>\n",
       "      <td>Jannu East (7460m)</td>\n",
       "    </tr>\n",
       "    <tr>\n",
       "      <th>YUBR</th>\n",
       "      <td>Yubra</td>\n",
       "      <td>NaN</td>\n",
       "      <td>6264</td>\n",
       "      <td>Unclimbed</td>\n",
       "      <td>NaN</td>\n",
       "      <td>NaN</td>\n",
       "      <td>NaN</td>\n",
       "      <td>Yubra (6264m)</td>\n",
       "    </tr>\n",
       "  </tbody>\n",
       "</table>\n",
       "<p>468 rows × 8 columns</p>\n",
       "</div>"
      ],
      "text/plain": [
       "                  peak_name     peak_alternative_name  height_metres   \n",
       "peak_id                                                                \n",
       "AMAD             Ama Dablam              Amai Dablang           6814  \\\n",
       "AMPG          Amphu Gyabjen                       NaN           5630   \n",
       "ANN1            Annapurna I                       NaN           8091   \n",
       "ANN2           Annapurna II                       NaN           7937   \n",
       "ANN3          Annapurna III                       NaN           7555   \n",
       "...                     ...                       ...            ...   \n",
       "SANK           Sano Kailash                       NaN           6452   \n",
       "TARS        Tarke Kang Shar                 Tare Kang           7069   \n",
       "KORL     Korlang Pari Tippa  Korlang Pari Tippa North           5738   \n",
       "JANE             Jannu East         Khumbhakarna East           7460   \n",
       "YUBR                  Yubra                       NaN           6264   \n",
       "\n",
       "        climbing_status  first_ascent_year  first_ascent_country   \n",
       "peak_id                                                            \n",
       "AMAD            Climbed             1961.0  New Zealand, USA, UK  \\\n",
       "AMPG            Climbed             1953.0                    UK   \n",
       "ANN1            Climbed             1950.0                France   \n",
       "ANN2            Climbed             1960.0             UK, Nepal   \n",
       "ANN3            Climbed             1961.0                 India   \n",
       "...                 ...                ...                   ...   \n",
       "SANK            Climbed             2019.0        Austria, Nepal   \n",
       "TARS            Climbed             1981.0          Italy, Nepal   \n",
       "KORL          Unclimbed                NaN                   NaN   \n",
       "JANE          Unclimbed                NaN                   NaN   \n",
       "YUBR          Unclimbed                NaN                   NaN   \n",
       "\n",
       "        first_ascent_expedition_id       peak_name_with_height  \n",
       "peak_id                                                         \n",
       "AMAD                     AMAD61101          Ama Dablam (6814m)  \n",
       "AMPG                     AMPG53101       Amphu Gyabjen (5630m)  \n",
       "ANN1                     ANN150101         Annapurna I (8091m)  \n",
       "ANN2                     ANN260101        Annapurna II (7937m)  \n",
       "ANN3                     ANN361101       Annapurna III (7555m)  \n",
       "...                            ...                         ...  \n",
       "SANK                     SANK19101        Sano Kailash (6452m)  \n",
       "TARS                     TARS81301     Tarke Kang Shar (7069m)  \n",
       "KORL                           NaN  Korlang Pari Tippa (5738m)  \n",
       "JANE                           NaN          Jannu East (7460m)  \n",
       "YUBR                           NaN               Yubra (6264m)  \n",
       "\n",
       "[468 rows x 8 columns]"
      ]
     },
     "execution_count": 3,
     "metadata": {},
     "output_type": "execute_result"
    }
   ],
   "source": [
    "#Putting Peakname and Height of Mountain together\n",
    "df_peaks['peak_name_with_height'] = df_peaks['peak_name'] + ' (' +df_peaks['height_metres'].astype(str) + 'm)'\n",
    "df_peaks"
   ]
  },
  {
   "cell_type": "code",
   "execution_count": 21,
   "id": "7692afcb",
   "metadata": {},
   "outputs": [],
   "source": [
    "#Merge peaks, climbers and expeditions\n",
    "\n",
    "df_soloclimbers = pd.merge(\n",
    "df_peaks, df_members, on = ['peak_name'])\n",
    "\n",
    "#df_soloclimbers_final = pd.merge(df_soloclimbers, df_expeditions, on = ['peak_name'])\n",
    "\n",
    "\n",
    "df_soloclimbers_final =  df_soloclimbers.loc[(df_soloclimbers.loc[:,'solo'] == True) & (df_soloclimbers.loc[:,'first_ascent_year'] > 0)]\n",
    "\n",
    "\n",
    "\n"
   ]
  },
  {
   "cell_type": "code",
   "execution_count": 22,
   "id": "d6b28788",
   "metadata": {},
   "outputs": [
    {
     "data": {
      "text/html": [
       "<div>\n",
       "<style scoped>\n",
       "    .dataframe tbody tr th:only-of-type {\n",
       "        vertical-align: middle;\n",
       "    }\n",
       "\n",
       "    .dataframe tbody tr th {\n",
       "        vertical-align: top;\n",
       "    }\n",
       "\n",
       "    .dataframe thead th {\n",
       "        text-align: right;\n",
       "    }\n",
       "</style>\n",
       "<table border=\"1\" class=\"dataframe\">\n",
       "  <thead>\n",
       "    <tr style=\"text-align: right;\">\n",
       "      <th></th>\n",
       "      <th>peak_name_with_height</th>\n",
       "      <th>number_of_climbs</th>\n",
       "      <th>median_year</th>\n",
       "      <th>mean_success_rate</th>\n",
       "    </tr>\n",
       "  </thead>\n",
       "  <tbody>\n",
       "    <tr>\n",
       "      <th>1</th>\n",
       "      <td>Annapurna I (8091m)</td>\n",
       "      <td>4</td>\n",
       "      <td>1950.0</td>\n",
       "      <td>0.250000</td>\n",
       "    </tr>\n",
       "    <tr>\n",
       "      <th>14</th>\n",
       "      <td>Everest (8850m)</td>\n",
       "      <td>8</td>\n",
       "      <td>1953.0</td>\n",
       "      <td>0.375000</td>\n",
       "    </tr>\n",
       "    <tr>\n",
       "      <th>26</th>\n",
       "      <td>Makalu II (7678m)</td>\n",
       "      <td>2</td>\n",
       "      <td>1954.0</td>\n",
       "      <td>1.000000</td>\n",
       "    </tr>\n",
       "    <tr>\n",
       "      <th>5</th>\n",
       "      <td>Baruntse (7152m)</td>\n",
       "      <td>2</td>\n",
       "      <td>1954.0</td>\n",
       "      <td>1.000000</td>\n",
       "    </tr>\n",
       "    <tr>\n",
       "      <th>10</th>\n",
       "      <td>Cho Oyu (8188m)</td>\n",
       "      <td>17</td>\n",
       "      <td>1954.0</td>\n",
       "      <td>0.529412</td>\n",
       "    </tr>\n",
       "    <tr>\n",
       "      <th>7</th>\n",
       "      <td>Chago (6893m)</td>\n",
       "      <td>1</td>\n",
       "      <td>1954.0</td>\n",
       "      <td>1.000000</td>\n",
       "    </tr>\n",
       "    <tr>\n",
       "      <th>29</th>\n",
       "      <td>Pethangtse (6739m)</td>\n",
       "      <td>1</td>\n",
       "      <td>1954.0</td>\n",
       "      <td>1.000000</td>\n",
       "    </tr>\n",
       "    <tr>\n",
       "      <th>28</th>\n",
       "      <td>Parchamo (6279m)</td>\n",
       "      <td>1</td>\n",
       "      <td>1955.0</td>\n",
       "      <td>1.000000</td>\n",
       "    </tr>\n",
       "    <tr>\n",
       "      <th>25</th>\n",
       "      <td>Makalu (8485m)</td>\n",
       "      <td>8</td>\n",
       "      <td>1955.0</td>\n",
       "      <td>0.375000</td>\n",
       "    </tr>\n",
       "    <tr>\n",
       "      <th>20</th>\n",
       "      <td>Kang Guru (6981m)</td>\n",
       "      <td>1</td>\n",
       "      <td>1955.0</td>\n",
       "      <td>1.000000</td>\n",
       "    </tr>\n",
       "    <tr>\n",
       "      <th>30</th>\n",
       "      <td>Pisang (6091m)</td>\n",
       "      <td>1</td>\n",
       "      <td>1955.0</td>\n",
       "      <td>1.000000</td>\n",
       "    </tr>\n",
       "    <tr>\n",
       "      <th>3</th>\n",
       "      <td>Annapurna IV (7525m)</td>\n",
       "      <td>1</td>\n",
       "      <td>1955.0</td>\n",
       "      <td>1.000000</td>\n",
       "    </tr>\n",
       "    <tr>\n",
       "      <th>21</th>\n",
       "      <td>Kangchenjunga (8586m)</td>\n",
       "      <td>5</td>\n",
       "      <td>1955.0</td>\n",
       "      <td>0.400000</td>\n",
       "    </tr>\n",
       "    <tr>\n",
       "      <th>27</th>\n",
       "      <td>Manaslu (8163m)</td>\n",
       "      <td>4</td>\n",
       "      <td>1956.0</td>\n",
       "      <td>0.500000</td>\n",
       "    </tr>\n",
       "    <tr>\n",
       "      <th>24</th>\n",
       "      <td>Lhotse (8516m)</td>\n",
       "      <td>3</td>\n",
       "      <td>1956.0</td>\n",
       "      <td>0.333333</td>\n",
       "    </tr>\n",
       "    <tr>\n",
       "      <th>17</th>\n",
       "      <td>Imjatse (6165m)</td>\n",
       "      <td>1</td>\n",
       "      <td>1956.0</td>\n",
       "      <td>0.000000</td>\n",
       "    </tr>\n",
       "    <tr>\n",
       "      <th>13</th>\n",
       "      <td>Dhaulagiri I (8167m)</td>\n",
       "      <td>10</td>\n",
       "      <td>1960.0</td>\n",
       "      <td>0.300000</td>\n",
       "    </tr>\n",
       "    <tr>\n",
       "      <th>2</th>\n",
       "      <td>Annapurna III (7555m)</td>\n",
       "      <td>1</td>\n",
       "      <td>1961.0</td>\n",
       "      <td>1.000000</td>\n",
       "    </tr>\n",
       "    <tr>\n",
       "      <th>0</th>\n",
       "      <td>Ama Dablam (6814m)</td>\n",
       "      <td>18</td>\n",
       "      <td>1961.0</td>\n",
       "      <td>0.833333</td>\n",
       "    </tr>\n",
       "    <tr>\n",
       "      <th>31</th>\n",
       "      <td>Pumori (7138m)</td>\n",
       "      <td>6</td>\n",
       "      <td>1962.0</td>\n",
       "      <td>1.000000</td>\n",
       "    </tr>\n",
       "    <tr>\n",
       "      <th>18</th>\n",
       "      <td>Jannu (7711m)</td>\n",
       "      <td>1</td>\n",
       "      <td>1962.0</td>\n",
       "      <td>1.000000</td>\n",
       "    </tr>\n",
       "    <tr>\n",
       "      <th>8</th>\n",
       "      <td>Chamlang (7321m)</td>\n",
       "      <td>1</td>\n",
       "      <td>1962.0</td>\n",
       "      <td>0.000000</td>\n",
       "    </tr>\n",
       "    <tr>\n",
       "      <th>16</th>\n",
       "      <td>Hongde (6556m)</td>\n",
       "      <td>1</td>\n",
       "      <td>1962.0</td>\n",
       "      <td>1.000000</td>\n",
       "    </tr>\n",
       "    <tr>\n",
       "      <th>19</th>\n",
       "      <td>Kagmara I (5978m)</td>\n",
       "      <td>1</td>\n",
       "      <td>1962.0</td>\n",
       "      <td>0.000000</td>\n",
       "    </tr>\n",
       "    <tr>\n",
       "      <th>32</th>\n",
       "      <td>Saipal (7030m)</td>\n",
       "      <td>1</td>\n",
       "      <td>1963.0</td>\n",
       "      <td>1.000000</td>\n",
       "    </tr>\n",
       "    <tr>\n",
       "      <th>4</th>\n",
       "      <td>Annapurna South (7219m)</td>\n",
       "      <td>2</td>\n",
       "      <td>1964.0</td>\n",
       "      <td>1.000000</td>\n",
       "    </tr>\n",
       "    <tr>\n",
       "      <th>33</th>\n",
       "      <td>Sita Chuchura (6611m)</td>\n",
       "      <td>1</td>\n",
       "      <td>1970.0</td>\n",
       "      <td>1.000000</td>\n",
       "    </tr>\n",
       "    <tr>\n",
       "      <th>37</th>\n",
       "      <td>Tukuche (6920m)</td>\n",
       "      <td>2</td>\n",
       "      <td>1970.0</td>\n",
       "      <td>1.000000</td>\n",
       "    </tr>\n",
       "    <tr>\n",
       "      <th>11</th>\n",
       "      <td>Chobuje (6686m)</td>\n",
       "      <td>1</td>\n",
       "      <td>1972.0</td>\n",
       "      <td>1.000000</td>\n",
       "    </tr>\n",
       "    <tr>\n",
       "      <th>35</th>\n",
       "      <td>Tawoche (6495m)</td>\n",
       "      <td>1</td>\n",
       "      <td>1974.0</td>\n",
       "      <td>1.000000</td>\n",
       "    </tr>\n",
       "    <tr>\n",
       "      <th>22</th>\n",
       "      <td>Kusum Kanguru (6370m)</td>\n",
       "      <td>4</td>\n",
       "      <td>1981.0</td>\n",
       "      <td>0.750000</td>\n",
       "    </tr>\n",
       "    <tr>\n",
       "      <th>9</th>\n",
       "      <td>Changtse (7583m)</td>\n",
       "      <td>1</td>\n",
       "      <td>1982.0</td>\n",
       "      <td>1.000000</td>\n",
       "    </tr>\n",
       "    <tr>\n",
       "      <th>12</th>\n",
       "      <td>Cholatse (6423m)</td>\n",
       "      <td>1</td>\n",
       "      <td>1982.0</td>\n",
       "      <td>1.000000</td>\n",
       "    </tr>\n",
       "    <tr>\n",
       "      <th>23</th>\n",
       "      <td>Langshisa Ri (6412m)</td>\n",
       "      <td>2</td>\n",
       "      <td>1982.0</td>\n",
       "      <td>1.000000</td>\n",
       "    </tr>\n",
       "    <tr>\n",
       "      <th>36</th>\n",
       "      <td>Tengkangpoche (6482m)</td>\n",
       "      <td>1</td>\n",
       "      <td>1984.0</td>\n",
       "      <td>0.000000</td>\n",
       "    </tr>\n",
       "    <tr>\n",
       "      <th>15</th>\n",
       "      <td>Himlung Himal (7126m)</td>\n",
       "      <td>2</td>\n",
       "      <td>1992.0</td>\n",
       "      <td>1.000000</td>\n",
       "    </tr>\n",
       "    <tr>\n",
       "      <th>6</th>\n",
       "      <td>Bobaye (6808m)</td>\n",
       "      <td>1</td>\n",
       "      <td>1996.0</td>\n",
       "      <td>1.000000</td>\n",
       "    </tr>\n",
       "    <tr>\n",
       "      <th>34</th>\n",
       "      <td>Takargo East (6152m)</td>\n",
       "      <td>1</td>\n",
       "      <td>2015.0</td>\n",
       "      <td>1.000000</td>\n",
       "    </tr>\n",
       "  </tbody>\n",
       "</table>\n",
       "</div>"
      ],
      "text/plain": [
       "      peak_name_with_height  number_of_climbs  median_year  mean_success_rate\n",
       "1       Annapurna I (8091m)                 4       1950.0           0.250000\n",
       "14          Everest (8850m)                 8       1953.0           0.375000\n",
       "26        Makalu II (7678m)                 2       1954.0           1.000000\n",
       "5          Baruntse (7152m)                 2       1954.0           1.000000\n",
       "10          Cho Oyu (8188m)                17       1954.0           0.529412\n",
       "7             Chago (6893m)                 1       1954.0           1.000000\n",
       "29       Pethangtse (6739m)                 1       1954.0           1.000000\n",
       "28         Parchamo (6279m)                 1       1955.0           1.000000\n",
       "25           Makalu (8485m)                 8       1955.0           0.375000\n",
       "20        Kang Guru (6981m)                 1       1955.0           1.000000\n",
       "30           Pisang (6091m)                 1       1955.0           1.000000\n",
       "3      Annapurna IV (7525m)                 1       1955.0           1.000000\n",
       "21    Kangchenjunga (8586m)                 5       1955.0           0.400000\n",
       "27          Manaslu (8163m)                 4       1956.0           0.500000\n",
       "24           Lhotse (8516m)                 3       1956.0           0.333333\n",
       "17          Imjatse (6165m)                 1       1956.0           0.000000\n",
       "13     Dhaulagiri I (8167m)                10       1960.0           0.300000\n",
       "2     Annapurna III (7555m)                 1       1961.0           1.000000\n",
       "0        Ama Dablam (6814m)                18       1961.0           0.833333\n",
       "31           Pumori (7138m)                 6       1962.0           1.000000\n",
       "18            Jannu (7711m)                 1       1962.0           1.000000\n",
       "8          Chamlang (7321m)                 1       1962.0           0.000000\n",
       "16           Hongde (6556m)                 1       1962.0           1.000000\n",
       "19        Kagmara I (5978m)                 1       1962.0           0.000000\n",
       "32           Saipal (7030m)                 1       1963.0           1.000000\n",
       "4   Annapurna South (7219m)                 2       1964.0           1.000000\n",
       "33    Sita Chuchura (6611m)                 1       1970.0           1.000000\n",
       "37          Tukuche (6920m)                 2       1970.0           1.000000\n",
       "11          Chobuje (6686m)                 1       1972.0           1.000000\n",
       "35          Tawoche (6495m)                 1       1974.0           1.000000\n",
       "22    Kusum Kanguru (6370m)                 4       1981.0           0.750000\n",
       "9          Changtse (7583m)                 1       1982.0           1.000000\n",
       "12         Cholatse (6423m)                 1       1982.0           1.000000\n",
       "23     Langshisa Ri (6412m)                 2       1982.0           1.000000\n",
       "36    Tengkangpoche (6482m)                 1       1984.0           0.000000\n",
       "15    Himlung Himal (7126m)                 2       1992.0           1.000000\n",
       "6            Bobaye (6808m)                 1       1996.0           1.000000\n",
       "34     Takargo East (6152m)                 1       2015.0           1.000000"
      ]
     },
     "execution_count": 22,
     "metadata": {},
     "output_type": "execute_result"
    }
   ],
   "source": [
    "#Group data for graphics\n",
    "df_plot_soloclimbers_final = df_soloclimbers_final.groupby(['peak_name_with_height'], as_index= False).agg(number_of_climbs = ('peak_name', 'count'),\n",
    "                                                                                                   median_year = ('first_ascent_year', 'median'),\n",
    "                                                                                                   mean_success_rate = ('success', 'mean')).sort_values(by='median_year', ascending= True)\n",
    "\n",
    "df_plot_soloclimbers_final"
   ]
  },
  {
   "cell_type": "markdown",
   "id": "b1cd57d5",
   "metadata": {},
   "source": [
    "And produce a plot:"
   ]
  },
  {
   "cell_type": "code",
   "execution_count": 24,
   "id": "4fc913e7",
   "metadata": {
    "scrolled": false
   },
   "outputs": [
    {
     "data": {
      "application/vnd.plotly.v1+json": {
       "config": {
        "plotlyServerURL": "https://plot.ly"
       },
       "data": [
        {
         "hovertemplate": "<b>%{hovertext}</b><br><br>Year of First Ascend=%{x}<br>Peak Name=%{y}<br>Number of Solo Climbs=%{marker.size}<br>Mean Success Rate=%{marker.color}<extra></extra>",
         "hovertext": [
          "Annapurna I (8091m)",
          "Everest (8850m)",
          "Makalu II (7678m)",
          "Baruntse (7152m)",
          "Cho Oyu (8188m)",
          "Chago (6893m)",
          "Pethangtse (6739m)",
          "Parchamo (6279m)",
          "Makalu (8485m)",
          "Kang Guru (6981m)",
          "Pisang (6091m)",
          "Annapurna IV (7525m)",
          "Kangchenjunga (8586m)",
          "Manaslu (8163m)",
          "Lhotse (8516m)",
          "Imjatse (6165m)",
          "Dhaulagiri I (8167m)",
          "Annapurna III (7555m)",
          "Ama Dablam (6814m)",
          "Pumori (7138m)",
          "Jannu (7711m)",
          "Chamlang (7321m)",
          "Hongde (6556m)",
          "Kagmara I (5978m)",
          "Saipal (7030m)",
          "Annapurna South (7219m)",
          "Sita Chuchura (6611m)",
          "Tukuche (6920m)",
          "Chobuje (6686m)",
          "Tawoche (6495m)",
          "Kusum Kanguru (6370m)",
          "Changtse (7583m)",
          "Cholatse (6423m)",
          "Langshisa Ri (6412m)",
          "Tengkangpoche (6482m)",
          "Himlung Himal (7126m)",
          "Bobaye (6808m)",
          "Takargo East (6152m)"
         ],
         "legendgroup": "",
         "marker": {
          "color": [
           0.25,
           0.375,
           1,
           1,
           0.5294117647058824,
           1,
           1,
           1,
           0.375,
           1,
           1,
           1,
           0.4,
           0.5,
           0.3333333333333333,
           0,
           0.3,
           1,
           0.8333333333333334,
           1,
           1,
           0,
           1,
           0,
           1,
           1,
           1,
           1,
           1,
           1,
           0.75,
           1,
           1,
           1,
           0,
           1,
           1,
           1
          ],
          "coloraxis": "coloraxis",
          "size": [
           4,
           8,
           2,
           2,
           17,
           1,
           1,
           1,
           8,
           1,
           1,
           1,
           5,
           4,
           3,
           1,
           10,
           1,
           18,
           6,
           1,
           1,
           1,
           1,
           1,
           2,
           1,
           2,
           1,
           1,
           4,
           1,
           1,
           2,
           1,
           2,
           1,
           1
          ],
          "sizemode": "area",
          "sizeref": 0.045,
          "symbol": "circle"
         },
         "mode": "markers",
         "name": "",
         "orientation": "h",
         "showlegend": false,
         "type": "scatter",
         "x": [
          1950,
          1953,
          1954,
          1954,
          1954,
          1954,
          1954,
          1955,
          1955,
          1955,
          1955,
          1955,
          1955,
          1956,
          1956,
          1956,
          1960,
          1961,
          1961,
          1962,
          1962,
          1962,
          1962,
          1962,
          1963,
          1964,
          1970,
          1970,
          1972,
          1974,
          1981,
          1982,
          1982,
          1982,
          1984,
          1992,
          1996,
          2015
         ],
         "xaxis": "x",
         "y": [
          "Annapurna I (8091m)",
          "Everest (8850m)",
          "Makalu II (7678m)",
          "Baruntse (7152m)",
          "Cho Oyu (8188m)",
          "Chago (6893m)",
          "Pethangtse (6739m)",
          "Parchamo (6279m)",
          "Makalu (8485m)",
          "Kang Guru (6981m)",
          "Pisang (6091m)",
          "Annapurna IV (7525m)",
          "Kangchenjunga (8586m)",
          "Manaslu (8163m)",
          "Lhotse (8516m)",
          "Imjatse (6165m)",
          "Dhaulagiri I (8167m)",
          "Annapurna III (7555m)",
          "Ama Dablam (6814m)",
          "Pumori (7138m)",
          "Jannu (7711m)",
          "Chamlang (7321m)",
          "Hongde (6556m)",
          "Kagmara I (5978m)",
          "Saipal (7030m)",
          "Annapurna South (7219m)",
          "Sita Chuchura (6611m)",
          "Tukuche (6920m)",
          "Chobuje (6686m)",
          "Tawoche (6495m)",
          "Kusum Kanguru (6370m)",
          "Changtse (7583m)",
          "Cholatse (6423m)",
          "Langshisa Ri (6412m)",
          "Tengkangpoche (6482m)",
          "Himlung Himal (7126m)",
          "Bobaye (6808m)",
          "Takargo East (6152m)"
         ],
         "yaxis": "y"
        }
       ],
       "layout": {
        "annotations": [
         {
          "align": "left",
          "bordercolor": "black",
          "borderwidth": 1,
          "showarrow": false,
          "text": "Data Source: <a href=”https://github.com/rfordatascience/tidytuesday/blob/master/data/2020/2020-09-22/readme.md”>The Himalaya Database</a> <br>Viz: <a href=”https://twitter.com/_prospecttheory”>@_prospecttheory</a> <br>  ",
          "x": -0.4,
          "xref": "paper",
          "y": -0.1,
          "yref": "paper"
         }
        ],
        "coloraxis": {
         "colorbar": {
          "dtick": 5,
          "len": 200,
          "lenmode": "pixels",
          "thickness": 40,
          "thicknessmode": "pixels",
          "ticks": "outside",
          "ticksuffix": " percent",
          "ticktext": [
           "0",
           "50",
           "100"
          ],
          "tickvals": [
           0,
           0.5,
           1
          ],
          "title": {
           "text": "Mean Success Rate"
          },
          "yanchor": "middle"
         },
         "colorscale": [
          [
           0,
           "rgb(165,0,38)"
          ],
          [
           0.1,
           "rgb(215,48,39)"
          ],
          [
           0.2,
           "rgb(244,109,67)"
          ],
          [
           0.3,
           "rgb(253,174,97)"
          ],
          [
           0.4,
           "rgb(254,224,139)"
          ],
          [
           0.5,
           "rgb(255,255,191)"
          ],
          [
           0.6,
           "rgb(217,239,139)"
          ],
          [
           0.7,
           "rgb(166,217,106)"
          ],
          [
           0.8,
           "rgb(102,189,99)"
          ],
          [
           0.9,
           "rgb(26,152,80)"
          ],
          [
           1,
           "rgb(0,104,55)"
          ]
         ]
        },
        "height": 1000,
        "legend": {
         "itemsizing": "constant",
         "tracegroupgap": 0
        },
        "template": {
         "data": {
          "bar": [
           {
            "error_x": {
             "color": "#f2f5fa"
            },
            "error_y": {
             "color": "#f2f5fa"
            },
            "marker": {
             "line": {
              "color": "rgb(17,17,17)",
              "width": 0.5
             },
             "pattern": {
              "fillmode": "overlay",
              "size": 10,
              "solidity": 0.2
             }
            },
            "type": "bar"
           }
          ],
          "barpolar": [
           {
            "marker": {
             "line": {
              "color": "rgb(17,17,17)",
              "width": 0.5
             },
             "pattern": {
              "fillmode": "overlay",
              "size": 10,
              "solidity": 0.2
             }
            },
            "type": "barpolar"
           }
          ],
          "carpet": [
           {
            "aaxis": {
             "endlinecolor": "#A2B1C6",
             "gridcolor": "#506784",
             "linecolor": "#506784",
             "minorgridcolor": "#506784",
             "startlinecolor": "#A2B1C6"
            },
            "baxis": {
             "endlinecolor": "#A2B1C6",
             "gridcolor": "#506784",
             "linecolor": "#506784",
             "minorgridcolor": "#506784",
             "startlinecolor": "#A2B1C6"
            },
            "type": "carpet"
           }
          ],
          "choropleth": [
           {
            "colorbar": {
             "outlinewidth": 0,
             "ticks": ""
            },
            "type": "choropleth"
           }
          ],
          "contour": [
           {
            "colorbar": {
             "outlinewidth": 0,
             "ticks": ""
            },
            "colorscale": [
             [
              0,
              "#0d0887"
             ],
             [
              0.1111111111111111,
              "#46039f"
             ],
             [
              0.2222222222222222,
              "#7201a8"
             ],
             [
              0.3333333333333333,
              "#9c179e"
             ],
             [
              0.4444444444444444,
              "#bd3786"
             ],
             [
              0.5555555555555556,
              "#d8576b"
             ],
             [
              0.6666666666666666,
              "#ed7953"
             ],
             [
              0.7777777777777778,
              "#fb9f3a"
             ],
             [
              0.8888888888888888,
              "#fdca26"
             ],
             [
              1,
              "#f0f921"
             ]
            ],
            "type": "contour"
           }
          ],
          "contourcarpet": [
           {
            "colorbar": {
             "outlinewidth": 0,
             "ticks": ""
            },
            "type": "contourcarpet"
           }
          ],
          "heatmap": [
           {
            "colorbar": {
             "outlinewidth": 0,
             "ticks": ""
            },
            "colorscale": [
             [
              0,
              "#0d0887"
             ],
             [
              0.1111111111111111,
              "#46039f"
             ],
             [
              0.2222222222222222,
              "#7201a8"
             ],
             [
              0.3333333333333333,
              "#9c179e"
             ],
             [
              0.4444444444444444,
              "#bd3786"
             ],
             [
              0.5555555555555556,
              "#d8576b"
             ],
             [
              0.6666666666666666,
              "#ed7953"
             ],
             [
              0.7777777777777778,
              "#fb9f3a"
             ],
             [
              0.8888888888888888,
              "#fdca26"
             ],
             [
              1,
              "#f0f921"
             ]
            ],
            "type": "heatmap"
           }
          ],
          "heatmapgl": [
           {
            "colorbar": {
             "outlinewidth": 0,
             "ticks": ""
            },
            "colorscale": [
             [
              0,
              "#0d0887"
             ],
             [
              0.1111111111111111,
              "#46039f"
             ],
             [
              0.2222222222222222,
              "#7201a8"
             ],
             [
              0.3333333333333333,
              "#9c179e"
             ],
             [
              0.4444444444444444,
              "#bd3786"
             ],
             [
              0.5555555555555556,
              "#d8576b"
             ],
             [
              0.6666666666666666,
              "#ed7953"
             ],
             [
              0.7777777777777778,
              "#fb9f3a"
             ],
             [
              0.8888888888888888,
              "#fdca26"
             ],
             [
              1,
              "#f0f921"
             ]
            ],
            "type": "heatmapgl"
           }
          ],
          "histogram": [
           {
            "marker": {
             "pattern": {
              "fillmode": "overlay",
              "size": 10,
              "solidity": 0.2
             }
            },
            "type": "histogram"
           }
          ],
          "histogram2d": [
           {
            "colorbar": {
             "outlinewidth": 0,
             "ticks": ""
            },
            "colorscale": [
             [
              0,
              "#0d0887"
             ],
             [
              0.1111111111111111,
              "#46039f"
             ],
             [
              0.2222222222222222,
              "#7201a8"
             ],
             [
              0.3333333333333333,
              "#9c179e"
             ],
             [
              0.4444444444444444,
              "#bd3786"
             ],
             [
              0.5555555555555556,
              "#d8576b"
             ],
             [
              0.6666666666666666,
              "#ed7953"
             ],
             [
              0.7777777777777778,
              "#fb9f3a"
             ],
             [
              0.8888888888888888,
              "#fdca26"
             ],
             [
              1,
              "#f0f921"
             ]
            ],
            "type": "histogram2d"
           }
          ],
          "histogram2dcontour": [
           {
            "colorbar": {
             "outlinewidth": 0,
             "ticks": ""
            },
            "colorscale": [
             [
              0,
              "#0d0887"
             ],
             [
              0.1111111111111111,
              "#46039f"
             ],
             [
              0.2222222222222222,
              "#7201a8"
             ],
             [
              0.3333333333333333,
              "#9c179e"
             ],
             [
              0.4444444444444444,
              "#bd3786"
             ],
             [
              0.5555555555555556,
              "#d8576b"
             ],
             [
              0.6666666666666666,
              "#ed7953"
             ],
             [
              0.7777777777777778,
              "#fb9f3a"
             ],
             [
              0.8888888888888888,
              "#fdca26"
             ],
             [
              1,
              "#f0f921"
             ]
            ],
            "type": "histogram2dcontour"
           }
          ],
          "mesh3d": [
           {
            "colorbar": {
             "outlinewidth": 0,
             "ticks": ""
            },
            "type": "mesh3d"
           }
          ],
          "parcoords": [
           {
            "line": {
             "colorbar": {
              "outlinewidth": 0,
              "ticks": ""
             }
            },
            "type": "parcoords"
           }
          ],
          "pie": [
           {
            "automargin": true,
            "type": "pie"
           }
          ],
          "scatter": [
           {
            "marker": {
             "line": {
              "color": "#283442"
             }
            },
            "type": "scatter"
           }
          ],
          "scatter3d": [
           {
            "line": {
             "colorbar": {
              "outlinewidth": 0,
              "ticks": ""
             }
            },
            "marker": {
             "colorbar": {
              "outlinewidth": 0,
              "ticks": ""
             }
            },
            "type": "scatter3d"
           }
          ],
          "scattercarpet": [
           {
            "marker": {
             "colorbar": {
              "outlinewidth": 0,
              "ticks": ""
             }
            },
            "type": "scattercarpet"
           }
          ],
          "scattergeo": [
           {
            "marker": {
             "colorbar": {
              "outlinewidth": 0,
              "ticks": ""
             }
            },
            "type": "scattergeo"
           }
          ],
          "scattergl": [
           {
            "marker": {
             "line": {
              "color": "#283442"
             }
            },
            "type": "scattergl"
           }
          ],
          "scattermapbox": [
           {
            "marker": {
             "colorbar": {
              "outlinewidth": 0,
              "ticks": ""
             }
            },
            "type": "scattermapbox"
           }
          ],
          "scatterpolar": [
           {
            "marker": {
             "colorbar": {
              "outlinewidth": 0,
              "ticks": ""
             }
            },
            "type": "scatterpolar"
           }
          ],
          "scatterpolargl": [
           {
            "marker": {
             "colorbar": {
              "outlinewidth": 0,
              "ticks": ""
             }
            },
            "type": "scatterpolargl"
           }
          ],
          "scatterternary": [
           {
            "marker": {
             "colorbar": {
              "outlinewidth": 0,
              "ticks": ""
             }
            },
            "type": "scatterternary"
           }
          ],
          "surface": [
           {
            "colorbar": {
             "outlinewidth": 0,
             "ticks": ""
            },
            "colorscale": [
             [
              0,
              "#0d0887"
             ],
             [
              0.1111111111111111,
              "#46039f"
             ],
             [
              0.2222222222222222,
              "#7201a8"
             ],
             [
              0.3333333333333333,
              "#9c179e"
             ],
             [
              0.4444444444444444,
              "#bd3786"
             ],
             [
              0.5555555555555556,
              "#d8576b"
             ],
             [
              0.6666666666666666,
              "#ed7953"
             ],
             [
              0.7777777777777778,
              "#fb9f3a"
             ],
             [
              0.8888888888888888,
              "#fdca26"
             ],
             [
              1,
              "#f0f921"
             ]
            ],
            "type": "surface"
           }
          ],
          "table": [
           {
            "cells": {
             "fill": {
              "color": "#506784"
             },
             "line": {
              "color": "rgb(17,17,17)"
             }
            },
            "header": {
             "fill": {
              "color": "#2a3f5f"
             },
             "line": {
              "color": "rgb(17,17,17)"
             }
            },
            "type": "table"
           }
          ]
         },
         "layout": {
          "annotationdefaults": {
           "arrowcolor": "#f2f5fa",
           "arrowhead": 0,
           "arrowwidth": 1
          },
          "autotypenumbers": "strict",
          "coloraxis": {
           "colorbar": {
            "outlinewidth": 0,
            "ticks": ""
           }
          },
          "colorscale": {
           "diverging": [
            [
             0,
             "#8e0152"
            ],
            [
             0.1,
             "#c51b7d"
            ],
            [
             0.2,
             "#de77ae"
            ],
            [
             0.3,
             "#f1b6da"
            ],
            [
             0.4,
             "#fde0ef"
            ],
            [
             0.5,
             "#f7f7f7"
            ],
            [
             0.6,
             "#e6f5d0"
            ],
            [
             0.7,
             "#b8e186"
            ],
            [
             0.8,
             "#7fbc41"
            ],
            [
             0.9,
             "#4d9221"
            ],
            [
             1,
             "#276419"
            ]
           ],
           "sequential": [
            [
             0,
             "#0d0887"
            ],
            [
             0.1111111111111111,
             "#46039f"
            ],
            [
             0.2222222222222222,
             "#7201a8"
            ],
            [
             0.3333333333333333,
             "#9c179e"
            ],
            [
             0.4444444444444444,
             "#bd3786"
            ],
            [
             0.5555555555555556,
             "#d8576b"
            ],
            [
             0.6666666666666666,
             "#ed7953"
            ],
            [
             0.7777777777777778,
             "#fb9f3a"
            ],
            [
             0.8888888888888888,
             "#fdca26"
            ],
            [
             1,
             "#f0f921"
            ]
           ],
           "sequentialminus": [
            [
             0,
             "#0d0887"
            ],
            [
             0.1111111111111111,
             "#46039f"
            ],
            [
             0.2222222222222222,
             "#7201a8"
            ],
            [
             0.3333333333333333,
             "#9c179e"
            ],
            [
             0.4444444444444444,
             "#bd3786"
            ],
            [
             0.5555555555555556,
             "#d8576b"
            ],
            [
             0.6666666666666666,
             "#ed7953"
            ],
            [
             0.7777777777777778,
             "#fb9f3a"
            ],
            [
             0.8888888888888888,
             "#fdca26"
            ],
            [
             1,
             "#f0f921"
            ]
           ]
          },
          "colorway": [
           "#636efa",
           "#EF553B",
           "#00cc96",
           "#ab63fa",
           "#FFA15A",
           "#19d3f3",
           "#FF6692",
           "#B6E880",
           "#FF97FF",
           "#FECB52"
          ],
          "font": {
           "color": "#f2f5fa"
          },
          "geo": {
           "bgcolor": "rgb(17,17,17)",
           "lakecolor": "rgb(17,17,17)",
           "landcolor": "rgb(17,17,17)",
           "showlakes": true,
           "showland": true,
           "subunitcolor": "#506784"
          },
          "hoverlabel": {
           "align": "left"
          },
          "hovermode": "closest",
          "mapbox": {
           "style": "dark"
          },
          "paper_bgcolor": "rgb(17,17,17)",
          "plot_bgcolor": "rgb(17,17,17)",
          "polar": {
           "angularaxis": {
            "gridcolor": "#506784",
            "linecolor": "#506784",
            "ticks": ""
           },
           "bgcolor": "rgb(17,17,17)",
           "radialaxis": {
            "gridcolor": "#506784",
            "linecolor": "#506784",
            "ticks": ""
           }
          },
          "scene": {
           "xaxis": {
            "backgroundcolor": "rgb(17,17,17)",
            "gridcolor": "#506784",
            "gridwidth": 2,
            "linecolor": "#506784",
            "showbackground": true,
            "ticks": "",
            "zerolinecolor": "#C8D4E3"
           },
           "yaxis": {
            "backgroundcolor": "rgb(17,17,17)",
            "gridcolor": "#506784",
            "gridwidth": 2,
            "linecolor": "#506784",
            "showbackground": true,
            "ticks": "",
            "zerolinecolor": "#C8D4E3"
           },
           "zaxis": {
            "backgroundcolor": "rgb(17,17,17)",
            "gridcolor": "#506784",
            "gridwidth": 2,
            "linecolor": "#506784",
            "showbackground": true,
            "ticks": "",
            "zerolinecolor": "#C8D4E3"
           }
          },
          "shapedefaults": {
           "line": {
            "color": "#f2f5fa"
           }
          },
          "sliderdefaults": {
           "bgcolor": "#C8D4E3",
           "bordercolor": "rgb(17,17,17)",
           "borderwidth": 1,
           "tickwidth": 0
          },
          "ternary": {
           "aaxis": {
            "gridcolor": "#506784",
            "linecolor": "#506784",
            "ticks": ""
           },
           "baxis": {
            "gridcolor": "#506784",
            "linecolor": "#506784",
            "ticks": ""
           },
           "bgcolor": "rgb(17,17,17)",
           "caxis": {
            "gridcolor": "#506784",
            "linecolor": "#506784",
            "ticks": ""
           }
          },
          "title": {
           "x": 0.05
          },
          "updatemenudefaults": {
           "bgcolor": "#506784",
           "borderwidth": 0
          },
          "xaxis": {
           "automargin": true,
           "gridcolor": "#283442",
           "linecolor": "#506784",
           "ticks": "",
           "title": {
            "standoff": 15
           },
           "zerolinecolor": "#283442",
           "zerolinewidth": 2
          },
          "yaxis": {
           "automargin": true,
           "gridcolor": "#283442",
           "linecolor": "#506784",
           "ticks": "",
           "title": {
            "standoff": 15
           },
           "zerolinecolor": "#283442",
           "zerolinewidth": 2
          }
         }
        },
        "title": {
         "text": "<b>Ain't no mountain high enough!</b> <br>Which Himalayan peaks have been peaking the interest of solo climbers?"
        },
        "width": 800,
        "xaxis": {
         "anchor": "y",
         "domain": [
          0,
          1
         ],
         "title": {
          "text": "Year of First Ascend"
         }
        },
        "yaxis": {
         "anchor": "x",
         "domain": [
          0,
          1
         ],
         "title": {
          "text": "Peak Name"
         }
        }
       }
      },
      "text/html": [
       "<div>                            <div id=\"0de3828e-39c9-4630-be8e-d62f35233df0\" class=\"plotly-graph-div\" style=\"height:1000px; width:800px;\"></div>            <script type=\"text/javascript\">                require([\"plotly\"], function(Plotly) {                    window.PLOTLYENV=window.PLOTLYENV || {};                                    if (document.getElementById(\"0de3828e-39c9-4630-be8e-d62f35233df0\")) {                    Plotly.newPlot(                        \"0de3828e-39c9-4630-be8e-d62f35233df0\",                        [{\"hovertemplate\":\"\\u003cb\\u003e%{hovertext}\\u003c\\u002fb\\u003e\\u003cbr\\u003e\\u003cbr\\u003eYear of First Ascend=%{x}\\u003cbr\\u003ePeak Name=%{y}\\u003cbr\\u003eNumber of Solo Climbs=%{marker.size}\\u003cbr\\u003eMean Success Rate=%{marker.color}\\u003cextra\\u003e\\u003c\\u002fextra\\u003e\",\"hovertext\":[\"Annapurna I (8091m)\",\"Everest (8850m)\",\"Makalu II (7678m)\",\"Baruntse (7152m)\",\"Cho Oyu (8188m)\",\"Chago (6893m)\",\"Pethangtse (6739m)\",\"Parchamo (6279m)\",\"Makalu (8485m)\",\"Kang Guru (6981m)\",\"Pisang (6091m)\",\"Annapurna IV (7525m)\",\"Kangchenjunga (8586m)\",\"Manaslu (8163m)\",\"Lhotse (8516m)\",\"Imjatse (6165m)\",\"Dhaulagiri I (8167m)\",\"Annapurna III (7555m)\",\"Ama Dablam (6814m)\",\"Pumori (7138m)\",\"Jannu (7711m)\",\"Chamlang (7321m)\",\"Hongde (6556m)\",\"Kagmara I (5978m)\",\"Saipal (7030m)\",\"Annapurna South (7219m)\",\"Sita Chuchura (6611m)\",\"Tukuche (6920m)\",\"Chobuje (6686m)\",\"Tawoche (6495m)\",\"Kusum Kanguru (6370m)\",\"Changtse (7583m)\",\"Cholatse (6423m)\",\"Langshisa Ri (6412m)\",\"Tengkangpoche (6482m)\",\"Himlung Himal (7126m)\",\"Bobaye (6808m)\",\"Takargo East (6152m)\"],\"legendgroup\":\"\",\"marker\":{\"color\":[0.25,0.375,1.0,1.0,0.5294117647058824,1.0,1.0,1.0,0.375,1.0,1.0,1.0,0.4,0.5,0.3333333333333333,0.0,0.3,1.0,0.8333333333333334,1.0,1.0,0.0,1.0,0.0,1.0,1.0,1.0,1.0,1.0,1.0,0.75,1.0,1.0,1.0,0.0,1.0,1.0,1.0],\"coloraxis\":\"coloraxis\",\"size\":[4,8,2,2,17,1,1,1,8,1,1,1,5,4,3,1,10,1,18,6,1,1,1,1,1,2,1,2,1,1,4,1,1,2,1,2,1,1],\"sizemode\":\"area\",\"sizeref\":0.045,\"symbol\":\"circle\"},\"mode\":\"markers\",\"name\":\"\",\"orientation\":\"h\",\"showlegend\":false,\"x\":[1950.0,1953.0,1954.0,1954.0,1954.0,1954.0,1954.0,1955.0,1955.0,1955.0,1955.0,1955.0,1955.0,1956.0,1956.0,1956.0,1960.0,1961.0,1961.0,1962.0,1962.0,1962.0,1962.0,1962.0,1963.0,1964.0,1970.0,1970.0,1972.0,1974.0,1981.0,1982.0,1982.0,1982.0,1984.0,1992.0,1996.0,2015.0],\"xaxis\":\"x\",\"y\":[\"Annapurna I (8091m)\",\"Everest (8850m)\",\"Makalu II (7678m)\",\"Baruntse (7152m)\",\"Cho Oyu (8188m)\",\"Chago (6893m)\",\"Pethangtse (6739m)\",\"Parchamo (6279m)\",\"Makalu (8485m)\",\"Kang Guru (6981m)\",\"Pisang (6091m)\",\"Annapurna IV (7525m)\",\"Kangchenjunga (8586m)\",\"Manaslu (8163m)\",\"Lhotse (8516m)\",\"Imjatse (6165m)\",\"Dhaulagiri I (8167m)\",\"Annapurna III (7555m)\",\"Ama Dablam (6814m)\",\"Pumori (7138m)\",\"Jannu (7711m)\",\"Chamlang (7321m)\",\"Hongde (6556m)\",\"Kagmara I (5978m)\",\"Saipal (7030m)\",\"Annapurna South (7219m)\",\"Sita Chuchura (6611m)\",\"Tukuche (6920m)\",\"Chobuje (6686m)\",\"Tawoche (6495m)\",\"Kusum Kanguru (6370m)\",\"Changtse (7583m)\",\"Cholatse (6423m)\",\"Langshisa Ri (6412m)\",\"Tengkangpoche (6482m)\",\"Himlung Himal (7126m)\",\"Bobaye (6808m)\",\"Takargo East (6152m)\"],\"yaxis\":\"y\",\"type\":\"scatter\"}],                        {\"template\":{\"data\":{\"barpolar\":[{\"marker\":{\"line\":{\"color\":\"rgb(17,17,17)\",\"width\":0.5},\"pattern\":{\"fillmode\":\"overlay\",\"size\":10,\"solidity\":0.2}},\"type\":\"barpolar\"}],\"bar\":[{\"error_x\":{\"color\":\"#f2f5fa\"},\"error_y\":{\"color\":\"#f2f5fa\"},\"marker\":{\"line\":{\"color\":\"rgb(17,17,17)\",\"width\":0.5},\"pattern\":{\"fillmode\":\"overlay\",\"size\":10,\"solidity\":0.2}},\"type\":\"bar\"}],\"carpet\":[{\"aaxis\":{\"endlinecolor\":\"#A2B1C6\",\"gridcolor\":\"#506784\",\"linecolor\":\"#506784\",\"minorgridcolor\":\"#506784\",\"startlinecolor\":\"#A2B1C6\"},\"baxis\":{\"endlinecolor\":\"#A2B1C6\",\"gridcolor\":\"#506784\",\"linecolor\":\"#506784\",\"minorgridcolor\":\"#506784\",\"startlinecolor\":\"#A2B1C6\"},\"type\":\"carpet\"}],\"choropleth\":[{\"colorbar\":{\"outlinewidth\":0,\"ticks\":\"\"},\"type\":\"choropleth\"}],\"contourcarpet\":[{\"colorbar\":{\"outlinewidth\":0,\"ticks\":\"\"},\"type\":\"contourcarpet\"}],\"contour\":[{\"colorbar\":{\"outlinewidth\":0,\"ticks\":\"\"},\"colorscale\":[[0.0,\"#0d0887\"],[0.1111111111111111,\"#46039f\"],[0.2222222222222222,\"#7201a8\"],[0.3333333333333333,\"#9c179e\"],[0.4444444444444444,\"#bd3786\"],[0.5555555555555556,\"#d8576b\"],[0.6666666666666666,\"#ed7953\"],[0.7777777777777778,\"#fb9f3a\"],[0.8888888888888888,\"#fdca26\"],[1.0,\"#f0f921\"]],\"type\":\"contour\"}],\"heatmapgl\":[{\"colorbar\":{\"outlinewidth\":0,\"ticks\":\"\"},\"colorscale\":[[0.0,\"#0d0887\"],[0.1111111111111111,\"#46039f\"],[0.2222222222222222,\"#7201a8\"],[0.3333333333333333,\"#9c179e\"],[0.4444444444444444,\"#bd3786\"],[0.5555555555555556,\"#d8576b\"],[0.6666666666666666,\"#ed7953\"],[0.7777777777777778,\"#fb9f3a\"],[0.8888888888888888,\"#fdca26\"],[1.0,\"#f0f921\"]],\"type\":\"heatmapgl\"}],\"heatmap\":[{\"colorbar\":{\"outlinewidth\":0,\"ticks\":\"\"},\"colorscale\":[[0.0,\"#0d0887\"],[0.1111111111111111,\"#46039f\"],[0.2222222222222222,\"#7201a8\"],[0.3333333333333333,\"#9c179e\"],[0.4444444444444444,\"#bd3786\"],[0.5555555555555556,\"#d8576b\"],[0.6666666666666666,\"#ed7953\"],[0.7777777777777778,\"#fb9f3a\"],[0.8888888888888888,\"#fdca26\"],[1.0,\"#f0f921\"]],\"type\":\"heatmap\"}],\"histogram2dcontour\":[{\"colorbar\":{\"outlinewidth\":0,\"ticks\":\"\"},\"colorscale\":[[0.0,\"#0d0887\"],[0.1111111111111111,\"#46039f\"],[0.2222222222222222,\"#7201a8\"],[0.3333333333333333,\"#9c179e\"],[0.4444444444444444,\"#bd3786\"],[0.5555555555555556,\"#d8576b\"],[0.6666666666666666,\"#ed7953\"],[0.7777777777777778,\"#fb9f3a\"],[0.8888888888888888,\"#fdca26\"],[1.0,\"#f0f921\"]],\"type\":\"histogram2dcontour\"}],\"histogram2d\":[{\"colorbar\":{\"outlinewidth\":0,\"ticks\":\"\"},\"colorscale\":[[0.0,\"#0d0887\"],[0.1111111111111111,\"#46039f\"],[0.2222222222222222,\"#7201a8\"],[0.3333333333333333,\"#9c179e\"],[0.4444444444444444,\"#bd3786\"],[0.5555555555555556,\"#d8576b\"],[0.6666666666666666,\"#ed7953\"],[0.7777777777777778,\"#fb9f3a\"],[0.8888888888888888,\"#fdca26\"],[1.0,\"#f0f921\"]],\"type\":\"histogram2d\"}],\"histogram\":[{\"marker\":{\"pattern\":{\"fillmode\":\"overlay\",\"size\":10,\"solidity\":0.2}},\"type\":\"histogram\"}],\"mesh3d\":[{\"colorbar\":{\"outlinewidth\":0,\"ticks\":\"\"},\"type\":\"mesh3d\"}],\"parcoords\":[{\"line\":{\"colorbar\":{\"outlinewidth\":0,\"ticks\":\"\"}},\"type\":\"parcoords\"}],\"pie\":[{\"automargin\":true,\"type\":\"pie\"}],\"scatter3d\":[{\"line\":{\"colorbar\":{\"outlinewidth\":0,\"ticks\":\"\"}},\"marker\":{\"colorbar\":{\"outlinewidth\":0,\"ticks\":\"\"}},\"type\":\"scatter3d\"}],\"scattercarpet\":[{\"marker\":{\"colorbar\":{\"outlinewidth\":0,\"ticks\":\"\"}},\"type\":\"scattercarpet\"}],\"scattergeo\":[{\"marker\":{\"colorbar\":{\"outlinewidth\":0,\"ticks\":\"\"}},\"type\":\"scattergeo\"}],\"scattergl\":[{\"marker\":{\"line\":{\"color\":\"#283442\"}},\"type\":\"scattergl\"}],\"scattermapbox\":[{\"marker\":{\"colorbar\":{\"outlinewidth\":0,\"ticks\":\"\"}},\"type\":\"scattermapbox\"}],\"scatterpolargl\":[{\"marker\":{\"colorbar\":{\"outlinewidth\":0,\"ticks\":\"\"}},\"type\":\"scatterpolargl\"}],\"scatterpolar\":[{\"marker\":{\"colorbar\":{\"outlinewidth\":0,\"ticks\":\"\"}},\"type\":\"scatterpolar\"}],\"scatter\":[{\"marker\":{\"line\":{\"color\":\"#283442\"}},\"type\":\"scatter\"}],\"scatterternary\":[{\"marker\":{\"colorbar\":{\"outlinewidth\":0,\"ticks\":\"\"}},\"type\":\"scatterternary\"}],\"surface\":[{\"colorbar\":{\"outlinewidth\":0,\"ticks\":\"\"},\"colorscale\":[[0.0,\"#0d0887\"],[0.1111111111111111,\"#46039f\"],[0.2222222222222222,\"#7201a8\"],[0.3333333333333333,\"#9c179e\"],[0.4444444444444444,\"#bd3786\"],[0.5555555555555556,\"#d8576b\"],[0.6666666666666666,\"#ed7953\"],[0.7777777777777778,\"#fb9f3a\"],[0.8888888888888888,\"#fdca26\"],[1.0,\"#f0f921\"]],\"type\":\"surface\"}],\"table\":[{\"cells\":{\"fill\":{\"color\":\"#506784\"},\"line\":{\"color\":\"rgb(17,17,17)\"}},\"header\":{\"fill\":{\"color\":\"#2a3f5f\"},\"line\":{\"color\":\"rgb(17,17,17)\"}},\"type\":\"table\"}]},\"layout\":{\"annotationdefaults\":{\"arrowcolor\":\"#f2f5fa\",\"arrowhead\":0,\"arrowwidth\":1},\"autotypenumbers\":\"strict\",\"coloraxis\":{\"colorbar\":{\"outlinewidth\":0,\"ticks\":\"\"}},\"colorscale\":{\"diverging\":[[0,\"#8e0152\"],[0.1,\"#c51b7d\"],[0.2,\"#de77ae\"],[0.3,\"#f1b6da\"],[0.4,\"#fde0ef\"],[0.5,\"#f7f7f7\"],[0.6,\"#e6f5d0\"],[0.7,\"#b8e186\"],[0.8,\"#7fbc41\"],[0.9,\"#4d9221\"],[1,\"#276419\"]],\"sequential\":[[0.0,\"#0d0887\"],[0.1111111111111111,\"#46039f\"],[0.2222222222222222,\"#7201a8\"],[0.3333333333333333,\"#9c179e\"],[0.4444444444444444,\"#bd3786\"],[0.5555555555555556,\"#d8576b\"],[0.6666666666666666,\"#ed7953\"],[0.7777777777777778,\"#fb9f3a\"],[0.8888888888888888,\"#fdca26\"],[1.0,\"#f0f921\"]],\"sequentialminus\":[[0.0,\"#0d0887\"],[0.1111111111111111,\"#46039f\"],[0.2222222222222222,\"#7201a8\"],[0.3333333333333333,\"#9c179e\"],[0.4444444444444444,\"#bd3786\"],[0.5555555555555556,\"#d8576b\"],[0.6666666666666666,\"#ed7953\"],[0.7777777777777778,\"#fb9f3a\"],[0.8888888888888888,\"#fdca26\"],[1.0,\"#f0f921\"]]},\"colorway\":[\"#636efa\",\"#EF553B\",\"#00cc96\",\"#ab63fa\",\"#FFA15A\",\"#19d3f3\",\"#FF6692\",\"#B6E880\",\"#FF97FF\",\"#FECB52\"],\"font\":{\"color\":\"#f2f5fa\"},\"geo\":{\"bgcolor\":\"rgb(17,17,17)\",\"lakecolor\":\"rgb(17,17,17)\",\"landcolor\":\"rgb(17,17,17)\",\"showlakes\":true,\"showland\":true,\"subunitcolor\":\"#506784\"},\"hoverlabel\":{\"align\":\"left\"},\"hovermode\":\"closest\",\"mapbox\":{\"style\":\"dark\"},\"paper_bgcolor\":\"rgb(17,17,17)\",\"plot_bgcolor\":\"rgb(17,17,17)\",\"polar\":{\"angularaxis\":{\"gridcolor\":\"#506784\",\"linecolor\":\"#506784\",\"ticks\":\"\"},\"bgcolor\":\"rgb(17,17,17)\",\"radialaxis\":{\"gridcolor\":\"#506784\",\"linecolor\":\"#506784\",\"ticks\":\"\"}},\"scene\":{\"xaxis\":{\"backgroundcolor\":\"rgb(17,17,17)\",\"gridcolor\":\"#506784\",\"gridwidth\":2,\"linecolor\":\"#506784\",\"showbackground\":true,\"ticks\":\"\",\"zerolinecolor\":\"#C8D4E3\"},\"yaxis\":{\"backgroundcolor\":\"rgb(17,17,17)\",\"gridcolor\":\"#506784\",\"gridwidth\":2,\"linecolor\":\"#506784\",\"showbackground\":true,\"ticks\":\"\",\"zerolinecolor\":\"#C8D4E3\"},\"zaxis\":{\"backgroundcolor\":\"rgb(17,17,17)\",\"gridcolor\":\"#506784\",\"gridwidth\":2,\"linecolor\":\"#506784\",\"showbackground\":true,\"ticks\":\"\",\"zerolinecolor\":\"#C8D4E3\"}},\"shapedefaults\":{\"line\":{\"color\":\"#f2f5fa\"}},\"sliderdefaults\":{\"bgcolor\":\"#C8D4E3\",\"bordercolor\":\"rgb(17,17,17)\",\"borderwidth\":1,\"tickwidth\":0},\"ternary\":{\"aaxis\":{\"gridcolor\":\"#506784\",\"linecolor\":\"#506784\",\"ticks\":\"\"},\"baxis\":{\"gridcolor\":\"#506784\",\"linecolor\":\"#506784\",\"ticks\":\"\"},\"bgcolor\":\"rgb(17,17,17)\",\"caxis\":{\"gridcolor\":\"#506784\",\"linecolor\":\"#506784\",\"ticks\":\"\"}},\"title\":{\"x\":0.05},\"updatemenudefaults\":{\"bgcolor\":\"#506784\",\"borderwidth\":0},\"xaxis\":{\"automargin\":true,\"gridcolor\":\"#283442\",\"linecolor\":\"#506784\",\"ticks\":\"\",\"title\":{\"standoff\":15},\"zerolinecolor\":\"#283442\",\"zerolinewidth\":2},\"yaxis\":{\"automargin\":true,\"gridcolor\":\"#283442\",\"linecolor\":\"#506784\",\"ticks\":\"\",\"title\":{\"standoff\":15},\"zerolinecolor\":\"#283442\",\"zerolinewidth\":2}}},\"xaxis\":{\"anchor\":\"y\",\"domain\":[0.0,1.0],\"title\":{\"text\":\"Year of First Ascend\"}},\"yaxis\":{\"anchor\":\"x\",\"domain\":[0.0,1.0],\"title\":{\"text\":\"Peak Name\"}},\"coloraxis\":{\"colorbar\":{\"title\":{\"text\":\"Mean Success Rate\"},\"thicknessmode\":\"pixels\",\"thickness\":40,\"lenmode\":\"pixels\",\"len\":200,\"yanchor\":\"middle\",\"ticks\":\"outside\",\"ticksuffix\":\" percent\",\"dtick\":5,\"tickvals\":[0,0.5,1],\"ticktext\":[\"0\",\"50\",\"100\"]},\"colorscale\":[[0.0,\"rgb(165,0,38)\"],[0.1,\"rgb(215,48,39)\"],[0.2,\"rgb(244,109,67)\"],[0.3,\"rgb(253,174,97)\"],[0.4,\"rgb(254,224,139)\"],[0.5,\"rgb(255,255,191)\"],[0.6,\"rgb(217,239,139)\"],[0.7,\"rgb(166,217,106)\"],[0.8,\"rgb(102,189,99)\"],[0.9,\"rgb(26,152,80)\"],[1.0,\"rgb(0,104,55)\"]]},\"legend\":{\"tracegroupgap\":0,\"itemsizing\":\"constant\"},\"title\":{\"text\":\"\\u003cb\\u003eAin't no mountain high enough!\\u003c\\u002fb\\u003e \\u003cbr\\u003eWhich Himalayan peaks have been peaking the interest of solo climbers?\"},\"height\":1000,\"width\":800,\"annotations\":[{\"align\":\"left\",\"bordercolor\":\"black\",\"borderwidth\":1,\"showarrow\":false,\"text\":\"Data Source: \\u003ca href=\\u201dhttps:\\u002f\\u002fgithub.com\\u002frfordatascience\\u002ftidytuesday\\u002fblob\\u002fmaster\\u002fdata\\u002f2020\\u002f2020-09-22\\u002freadme.md\\u201d\\u003eThe Himalaya Database\\u003c\\u002fa\\u003e \\u003cbr\\u003eViz: \\u003ca href=\\u201dhttps:\\u002f\\u002ftwitter.com\\u002f_prospecttheory\\u201d\\u003e@_prospecttheory\\u003c\\u002fa\\u003e \\u003cbr\\u003e  \",\"x\":-0.4,\"xref\":\"paper\",\"y\":-0.1,\"yref\":\"paper\"}]},                        {\"responsive\": true}                    ).then(function(){\n",
       "                            \n",
       "var gd = document.getElementById('0de3828e-39c9-4630-be8e-d62f35233df0');\n",
       "var x = new MutationObserver(function (mutations, observer) {{\n",
       "        var display = window.getComputedStyle(gd).display;\n",
       "        if (!display || display === 'none') {{\n",
       "            console.log([gd, 'removed!']);\n",
       "            Plotly.purge(gd);\n",
       "            observer.disconnect();\n",
       "        }}\n",
       "}});\n",
       "\n",
       "// Listen for the removal of the full notebook cells\n",
       "var notebookContainer = gd.closest('#notebook-container');\n",
       "if (notebookContainer) {{\n",
       "    x.observe(notebookContainer, {childList: true});\n",
       "}}\n",
       "\n",
       "// Listen for the clearing of the current output cell\n",
       "var outputEl = gd.closest('.output');\n",
       "if (outputEl) {{\n",
       "    x.observe(outputEl, {childList: true});\n",
       "}}\n",
       "\n",
       "                        })                };                });            </script>        </div>"
      ]
     },
     "metadata": {},
     "output_type": "display_data"
    }
   ],
   "source": [
    "#Producing a graph\n",
    "\n",
    "fig = px.scatter(df_plot_soloclimbers_final, \n",
    "                     x= 'median_year',\n",
    "                     y = 'peak_name_with_height', \n",
    "                     title = \"<b>Ain't no mountain high enough!</b> <br>Which Himalayan peaks have been peaking the interest of solo climbers?\",\n",
    "                     color= 'mean_success_rate',\n",
    "                     color_continuous_scale='RdYlGn',\n",
    "                     labels={'median_year': 'Year of First Ascend', \n",
    "                             'peak_name_with_height':\"Peak Name\", \n",
    "                             \"mean_success_rate\":\"Mean Success Rate\", \n",
    "                             'number_of_climbs':'Number of Solo Climbs'},\n",
    "                     size = 'number_of_climbs',\n",
    "                     size_max= 20,\n",
    "                     hover_name = 'peak_name_with_height',\n",
    "                     template = \"plotly_dark\",\n",
    "                     width = 800,\n",
    "                     height = 1000\n",
    "                     )\n",
    "\n",
    "fig.update_layout(coloraxis_colorbar=dict(\n",
    "    thicknessmode=\"pixels\", thickness=40,\n",
    "    lenmode=\"pixels\", len=200,\n",
    "    yanchor=\"middle\", \n",
    "    ticks = 'outside',\n",
    "    ticksuffix=\" percent\",\n",
    "    dtick=5,\n",
    "    tickvals=[0, 0.5, 1],\n",
    "    ticktext=['0', '50', '100']\n",
    "))\n",
    "\n",
    "fig.add_annotation(text='Data Source: <a href=”https://github.com/rfordatascience/tidytuesday/blob/master/data/2020/2020-09-22/readme.md”>The Himalaya Database</a> <br>Viz: <a href=”https://twitter.com/_prospecttheory”>@_prospecttheory</a> <br>  ', \n",
    "                    align='left',\n",
    "                    showarrow=False,\n",
    "                    xref='paper',\n",
    "                    yref='paper',\n",
    "                    x=-0.4,\n",
    "                    y= -0.1,\n",
    "                    bordercolor='black',\n",
    "                    borderwidth=1)\n",
    "\n",
    "\n",
    "fig.show()"
   ]
  }
 ],
 "metadata": {
  "kernelspec": {
   "display_name": "Python 3 (ipykernel)",
   "language": "python",
   "name": "python3"
  },
  "language_info": {
   "codemirror_mode": {
    "name": "ipython",
    "version": 3
   },
   "file_extension": ".py",
   "mimetype": "text/x-python",
   "name": "python",
   "nbconvert_exporter": "python",
   "pygments_lexer": "ipython3",
   "version": "3.11.3"
  },
  "toc": {
   "base_numbering": 1,
   "nav_menu": {},
   "number_sections": true,
   "sideBar": true,
   "skip_h1_title": false,
   "title_cell": "Table of Contents",
   "title_sidebar": "Contents",
   "toc_cell": false,
   "toc_position": {},
   "toc_section_display": true,
   "toc_window_display": false
  },
  "varInspector": {
   "cols": {
    "lenName": 16,
    "lenType": 16,
    "lenVar": 40
   },
   "kernels_config": {
    "python": {
     "delete_cmd_postfix": "",
     "delete_cmd_prefix": "del ",
     "library": "var_list.py",
     "varRefreshCmd": "print(var_dic_list())"
    },
    "r": {
     "delete_cmd_postfix": ") ",
     "delete_cmd_prefix": "rm(",
     "library": "var_list.r",
     "varRefreshCmd": "cat(var_dic_list()) "
    }
   },
   "types_to_exclude": [
    "module",
    "function",
    "builtin_function_or_method",
    "instance",
    "_Feature"
   ],
   "window_display": false
  }
 },
 "nbformat": 4,
 "nbformat_minor": 5
}
